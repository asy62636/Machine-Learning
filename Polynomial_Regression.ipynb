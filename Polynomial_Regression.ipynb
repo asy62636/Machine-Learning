{
 "cells": [
  {
   "cell_type": "markdown",
   "metadata": {},
   "source": [
    "Polynomial regression \n",
    "y = b0 +b1x^1 + b2x^2 + b3x^3 ....\n",
    "\n",
    "Using Polynomial Regression, Simple Linear Regression and Multiple Linear regression depends on the data we are given\n",
    "\n",
    "Why is it called Polynomial Linear Regression?\n",
    "Its cause linear is referring to what the coefficients have in relation\n",
    "Linear - non linear refers to the coefficients\n",
    "\n",
    "where we cannot replace the coeffs with other coeffs\n",
    "In fact its a version of the multi variable linear regression\n"
   ]
  },
  {
   "cell_type": "markdown",
   "metadata": {},
   "source": [
    "I have a dataset and as an HR depaertment i need to find out whic person best fits the job. The person is advanced in career and we want to find the money that the person deserves. Try and base this on the level of the person\n",
    "\n",
    "say person is at level 6, works at a job for 2 years, his salary is somewhere between 6 and 7. So we assume he takes value 6.5 lakhs\n",
    "\n",
    "Steps -\n",
    "1. data preprocessing\n",
    "2. building model\n",
    "3. training model\n",
    "4. testing the model\n",
    "Here the data available is only for 10 rows, so to get maximum training valjes, we use all rows instead of splitting it into parts"
   ]
  },
  {
   "cell_type": "code",
   "execution_count": 62,
   "metadata": {},
   "outputs": [],
   "source": [
    "import pandas as pd\n"
   ]
  },
  {
   "cell_type": "code",
   "execution_count": 63,
   "metadata": {},
   "outputs": [
    {
     "data": {
      "text/html": [
       "<div>\n",
       "<style scoped>\n",
       "    .dataframe tbody tr th:only-of-type {\n",
       "        vertical-align: middle;\n",
       "    }\n",
       "\n",
       "    .dataframe tbody tr th {\n",
       "        vertical-align: top;\n",
       "    }\n",
       "\n",
       "    .dataframe thead th {\n",
       "        text-align: right;\n",
       "    }\n",
       "</style>\n",
       "<table border=\"1\" class=\"dataframe\">\n",
       "  <thead>\n",
       "    <tr style=\"text-align: right;\">\n",
       "      <th></th>\n",
       "      <th>Position</th>\n",
       "      <th>Level</th>\n",
       "      <th>Salary</th>\n",
       "    </tr>\n",
       "  </thead>\n",
       "  <tbody>\n",
       "    <tr>\n",
       "      <th>0</th>\n",
       "      <td>Business Analyst</td>\n",
       "      <td>1</td>\n",
       "      <td>45000</td>\n",
       "    </tr>\n",
       "    <tr>\n",
       "      <th>1</th>\n",
       "      <td>Junior Consultant</td>\n",
       "      <td>2</td>\n",
       "      <td>50000</td>\n",
       "    </tr>\n",
       "    <tr>\n",
       "      <th>2</th>\n",
       "      <td>Senior Consultant</td>\n",
       "      <td>3</td>\n",
       "      <td>60000</td>\n",
       "    </tr>\n",
       "    <tr>\n",
       "      <th>3</th>\n",
       "      <td>Manager</td>\n",
       "      <td>4</td>\n",
       "      <td>80000</td>\n",
       "    </tr>\n",
       "    <tr>\n",
       "      <th>4</th>\n",
       "      <td>Country Manager</td>\n",
       "      <td>5</td>\n",
       "      <td>110000</td>\n",
       "    </tr>\n",
       "    <tr>\n",
       "      <th>5</th>\n",
       "      <td>Region Manager</td>\n",
       "      <td>6</td>\n",
       "      <td>150000</td>\n",
       "    </tr>\n",
       "    <tr>\n",
       "      <th>6</th>\n",
       "      <td>Partner</td>\n",
       "      <td>7</td>\n",
       "      <td>200000</td>\n",
       "    </tr>\n",
       "    <tr>\n",
       "      <th>7</th>\n",
       "      <td>Senior Partner</td>\n",
       "      <td>8</td>\n",
       "      <td>300000</td>\n",
       "    </tr>\n",
       "    <tr>\n",
       "      <th>8</th>\n",
       "      <td>C-level</td>\n",
       "      <td>9</td>\n",
       "      <td>500000</td>\n",
       "    </tr>\n",
       "    <tr>\n",
       "      <th>9</th>\n",
       "      <td>CEO</td>\n",
       "      <td>10</td>\n",
       "      <td>1000000</td>\n",
       "    </tr>\n",
       "  </tbody>\n",
       "</table>\n",
       "</div>"
      ],
      "text/plain": [
       "            Position  Level   Salary\n",
       "0   Business Analyst      1    45000\n",
       "1  Junior Consultant      2    50000\n",
       "2  Senior Consultant      3    60000\n",
       "3            Manager      4    80000\n",
       "4    Country Manager      5   110000\n",
       "5     Region Manager      6   150000\n",
       "6            Partner      7   200000\n",
       "7     Senior Partner      8   300000\n",
       "8            C-level      9   500000\n",
       "9                CEO     10  1000000"
      ]
     },
     "execution_count": 63,
     "metadata": {},
     "output_type": "execute_result"
    }
   ],
   "source": [
    "dataframe = pd.read_csv(\"/Users/aryanmishra/Desktop/TF/UDEMY COURSE 1/Machine Learning A-Z (Codes and Datasets)/Part 2 - Regression/Section 6 - Polynomial Regression/Python/Position_Salaries.csv\")\n",
    "dataframe"
   ]
  },
  {
   "cell_type": "code",
   "execution_count": 64,
   "metadata": {},
   "outputs": [
    {
     "name": "stdout",
     "output_type": "stream",
     "text": [
      "[[ 1]\n",
      " [ 2]\n",
      " [ 3]\n",
      " [ 4]\n",
      " [ 5]\n",
      " [ 6]\n",
      " [ 7]\n",
      " [ 8]\n",
      " [ 9]\n",
      " [10]] [  45000   50000   60000   80000  110000  150000  200000  300000  500000\n",
      " 1000000]\n"
     ]
    }
   ],
   "source": [
    "X = dataframe.iloc[:,1:-1].values\n",
    "Y = dataframe.iloc[:,-1].values\n",
    "print(X,Y)"
   ]
  },
  {
   "cell_type": "code",
   "execution_count": 65,
   "metadata": {},
   "outputs": [
    {
     "data": {
      "text/plain": [
       "LinearRegression()"
      ]
     },
     "execution_count": 65,
     "metadata": {},
     "output_type": "execute_result"
    }
   ],
   "source": [
    "from distutils.errors import LibError\n",
    "from sklearn.linear_model import LinearRegression\n",
    "regressor = LinearRegression()\n",
    "regressor.fit(X,Y)"
   ]
  },
  {
   "cell_type": "code",
   "execution_count": 66,
   "metadata": {},
   "outputs": [
    {
     "data": {
      "text/plain": [
       "[<matplotlib.lines.Line2D at 0x1595254c0>]"
      ]
     },
     "execution_count": 66,
     "metadata": {},
     "output_type": "execute_result"
    },
    {
     "data": {
      "image/png": "[encoded data removed]",
      "text/plain": [
       "<Figure size 432x288 with 1 Axes>"
      ]
     },
     "metadata": {
      "needs_background": "light"
     },
     "output_type": "display_data"
    }
   ],
   "source": [
    "import matplotlib.pyplot as plt\n",
    "plt.scatter(X, Y)\n",
    "plt.plot(X, regressor.predict(X))"
   ]
  },
  {
   "cell_type": "markdown",
   "metadata": {},
   "source": [
    "Linear Regression doesnt work here\n",
    "To do polynomial regression, we need to import this tool thatll make this powerful matrix of features x^1, x^2, x^3...."
   ]
  },
  {
   "cell_type": "code",
   "execution_count": 67,
   "metadata": {},
   "outputs": [
    {
     "name": "stdout",
     "output_type": "stream",
     "text": [
      "[[  1.   1.   1.]\n",
      " [  1.   2.   4.]\n",
      " [  1.   3.   9.]\n",
      " [  1.   4.  16.]\n",
      " [  1.   5.  25.]\n",
      " [  1.   6.  36.]\n",
      " [  1.   7.  49.]\n",
      " [  1.   8.  64.]\n",
      " [  1.   9.  81.]\n",
      " [  1.  10. 100.]]\n"
     ]
    }
   ],
   "source": [
    "from sklearn.preprocessing import PolynomialFeatures\n",
    "poly_reg = PolynomialFeatures(degree = 2) #this is not the regressor\n",
    "#rather, it makes the matrix of features\n",
    "X_poly = poly_reg.fit_transform(X)#we will now transform the X matrix into a 2D matrix with X as first column and X^2 as secod column\n",
    "print(X_poly)"
   ]
  },
  {
   "cell_type": "code",
   "execution_count": 68,
   "metadata": {},
   "outputs": [
    {
     "data": {
      "text/plain": [
       "LinearRegression()"
      ]
     },
     "execution_count": 68,
     "metadata": {},
     "output_type": "execute_result"
    }
   ],
   "source": [
    "lin_reg2 = LinearRegression()\n",
    "lin_reg2.fit(X_poly,Y)"
   ]
  },
  {
   "cell_type": "markdown",
   "metadata": {},
   "source": [
    "Visualising the Linear Regression Results"
   ]
  },
  {
   "cell_type": "code",
   "execution_count": 69,
   "metadata": {},
   "outputs": [
    {
     "data": {
      "image/png": "[encoded data removed]",
      "text/plain": [
       "<Figure size 432x288 with 1 Axes>"
      ]
     },
     "metadata": {
      "needs_background": "light"
     },
     "output_type": "display_data"
    }
   ],
   "source": [
    "plt.scatter(X, Y,color = 'r')\n",
    "plt.plot(X, lin_reg2.predict(X_poly), color = 'b')\n",
    "plt.title(\"Truth or bluff(Linear Regression\")\n",
    "plt.xlabel(\"Position Level\")\n",
    "plt.ylabel(\"Salary\")\n",
    "plt.show()"
   ]
  },
  {
   "cell_type": "code",
   "execution_count": 70,
   "metadata": {},
   "outputs": [
    {
     "name": "stdout",
     "output_type": "stream",
     "text": [
      "[[1.0000e+00 1.0000e+00 1.0000e+00 1.0000e+00 1.0000e+00 1.0000e+00]\n",
      " [1.0000e+00 2.0000e+00 4.0000e+00 8.0000e+00 1.6000e+01 3.2000e+01]\n",
      " [1.0000e+00 3.0000e+00 9.0000e+00 2.7000e+01 8.1000e+01 2.4300e+02]\n",
      " [1.0000e+00 4.0000e+00 1.6000e+01 6.4000e+01 2.5600e+02 1.0240e+03]\n",
      " [1.0000e+00 5.0000e+00 2.5000e+01 1.2500e+02 6.2500e+02 3.1250e+03]\n",
      " [1.0000e+00 6.0000e+00 3.6000e+01 2.1600e+02 1.2960e+03 7.7760e+03]\n",
      " [1.0000e+00 7.0000e+00 4.9000e+01 3.4300e+02 2.4010e+03 1.6807e+04]\n",
      " [1.0000e+00 8.0000e+00 6.4000e+01 5.1200e+02 4.0960e+03 3.2768e+04]\n",
      " [1.0000e+00 9.0000e+00 8.1000e+01 7.2900e+02 6.5610e+03 5.9049e+04]\n",
      " [1.0000e+00 1.0000e+01 1.0000e+02 1.0000e+03 1.0000e+04 1.0000e+05]]\n"
     ]
    }
   ],
   "source": [
    "poly_reg = PolynomialFeatures(degree = 5) #this is not the regressor\n",
    "#rather, it makes the matrix of features\n",
    "X_poly = poly_reg.fit_transform(X)#we will now transform the X matrix into a matrix with X as first column, X^2 as secod column, X^3 as third column till X^5 as last column\n",
    "print(X_poly)"
   ]
  },
  {
   "cell_type": "code",
   "execution_count": 72,
   "metadata": {},
   "outputs": [
    {
     "data": {
      "text/plain": [
       "LinearRegression()"
      ]
     },
     "execution_count": 72,
     "metadata": {},
     "output_type": "execute_result"
    }
   ],
   "source": [
    "lin_reg2 = LinearRegression()\n",
    "lin_reg2.fit(X_poly,Y)"
   ]
  },
  {
   "cell_type": "code",
   "execution_count": 73,
   "metadata": {},
   "outputs": [
    {
     "data": {
      "image/png": "[encoded data removed]",
      "text/plain": [
       "<Figure size 432x288 with 1 Axes>"
      ]
     },
     "metadata": {
      "needs_background": "light"
     },
     "output_type": "display_data"
    }
   ],
   "source": [
    "plt.scatter(X, Y,color = 'r')\n",
    "plt.plot(X, lin_reg2.predict(X_poly), color = 'b')\n",
    "plt.title(\"Truth or bluff(Linear Regression\")\n",
    "plt.xlabel(\"Position Level\")\n",
    "plt.ylabel(\"Salary\")\n",
    "plt.show()"
   ]
  },
  {
   "cell_type": "markdown",
   "metadata": {},
   "source": [
    "The polynomial model has undergone overfitting, resulting in a perfect graph"
   ]
  },
  {
   "cell_type": "code",
   "execution_count": 77,
   "metadata": {},
   "outputs": [
    {
     "name": "stdout",
     "output_type": "stream",
     "text": [
      "[[1. ]\n",
      " [1.1]\n",
      " [1.2]\n",
      " [1.3]\n",
      " [1.4]\n",
      " [1.5]\n",
      " [1.6]\n",
      " [1.7]\n",
      " [1.8]\n",
      " [1.9]\n",
      " [2. ]\n",
      " [2.1]\n",
      " [2.2]\n",
      " [2.3]\n",
      " [2.4]\n",
      " [2.5]\n",
      " [2.6]\n",
      " [2.7]\n",
      " [2.8]\n",
      " [2.9]\n",
      " [3. ]\n",
      " [3.1]\n",
      " [3.2]\n",
      " [3.3]\n",
      " [3.4]\n",
      " [3.5]\n",
      " [3.6]\n",
      " [3.7]\n",
      " [3.8]\n",
      " [3.9]\n",
      " [4. ]\n",
      " [4.1]\n",
      " [4.2]\n",
      " [4.3]\n",
      " [4.4]\n",
      " [4.5]\n",
      " [4.6]\n",
      " [4.7]\n",
      " [4.8]\n",
      " [4.9]\n",
      " [5. ]\n",
      " [5.1]\n",
      " [5.2]\n",
      " [5.3]\n",
      " [5.4]\n",
      " [5.5]\n",
      " [5.6]\n",
      " [5.7]\n",
      " [5.8]\n",
      " [5.9]\n",
      " [6. ]\n",
      " [6.1]\n",
      " [6.2]\n",
      " [6.3]\n",
      " [6.4]\n",
      " [6.5]\n",
      " [6.6]\n",
      " [6.7]\n",
      " [6.8]\n",
      " [6.9]\n",
      " [7. ]\n",
      " [7.1]\n",
      " [7.2]\n",
      " [7.3]\n",
      " [7.4]\n",
      " [7.5]\n",
      " [7.6]\n",
      " [7.7]\n",
      " [7.8]\n",
      " [7.9]\n",
      " [8. ]\n",
      " [8.1]\n",
      " [8.2]\n",
      " [8.3]\n",
      " [8.4]\n",
      " [8.5]\n",
      " [8.6]\n",
      " [8.7]\n",
      " [8.8]\n",
      " [8.9]\n",
      " [9. ]\n",
      " [9.1]\n",
      " [9.2]\n",
      " [9.3]\n",
      " [9.4]\n",
      " [9.5]\n",
      " [9.6]\n",
      " [9.7]\n",
      " [9.8]\n",
      " [9.9]]\n"
     ]
    },
    {
     "data": {
      "image/png": "[encoded data removed]",
      "text/plain": [
       "<Figure size 432x288 with 1 Axes>"
      ]
     },
     "metadata": {
      "needs_background": "light"
     },
     "output_type": "display_data"
    }
   ],
   "source": [
    "import numpy as np\n",
    "x_grid = np.arange(min(X), max(X), 0.1)\n",
    "x_grid = x_grid.reshape(len(x_grid),1)\n",
    "print(x_grid)\n",
    "plt.scatter(X, Y,color = 'r')\n",
    "plt.plot(x_grid, lin_reg2.predict(poly_reg.fit_transform(x_grid)), color = 'b')\n",
    "plt.title(\"Truth or bluff(Linear Regression\")\n",
    "plt.xlabel(\"Position Level\")\n",
    "plt.ylabel(\"Salary\")\n",
    "plt.show()"
   ]
  },
  {
   "cell_type": "markdown",
   "metadata": {},
   "source": [
    "This gave a rather smoother curve for visualisation\n",
    "This is an overfitted model though\n",
    "Cant use it well in real life"
   ]
  },
  {
   "cell_type": "code",
   "execution_count": 79,
   "metadata": {},
   "outputs": [
    {
     "name": "stdout",
     "output_type": "stream",
     "text": [
      "[174878.07765138]\n"
     ]
    }
   ],
   "source": [
    "l = np.array([[6.5]])\n",
    "l = poly_reg.fit_transform(l)\n",
    "print(lin_reg2.predict(l))"
   ]
  }
 ],
 "metadata": {
  "kernelspec": {
   "display_name": "Python 3.9.10 ('base')",
   "language": "python",
   "name": "python3"
  },
  "language_info": {
   "codemirror_mode": {
    "name": "ipython",
    "version": 3
   },
   "file_extension": ".py",
   "mimetype": "text/x-python",
   "name": "python",
   "nbconvert_exporter": "python",
   "pygments_lexer": "ipython3",
   "version": "3.9.10"
  },
  "orig_nbformat": 4,
  "vscode": {
   "interpreter": {
    "hash": "c6e4e9f98eb68ad3b7c296f83d20e6de614cb42e90992a65aa266555a3137d0d"
   }
  }
 },
 "nbformat": 4,
 "nbformat_minor": 2
}
