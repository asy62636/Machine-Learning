{
 "cells": [
  {
   "cell_type": "markdown",
   "metadata": {},
   "source": [
    "A venture capitalist company wants me to make a model capable of predicting which company will make more profit so as to make a good prediction. We shall use the data given in the 50_startups.csv so that the company can profitably invest in a company."
   ]
  },
  {
   "cell_type": "markdown",
   "metadata": {},
   "source": [
    "Simple linear regression :- y = bo + b1 * x1\n",
    "Multivariable linear regression :- y = b0 +b1 * x1 + b2 * x2...\n",
    "Here profit is the dependent variable and others are independent."
   ]
  },
  {
   "cell_type": "markdown",
   "metadata": {},
   "source": [
    "Assumptions of a linear regression:\n",
    "1. Linearity\n",
    "2. Homoscedasticity\n",
    "3. Multivariate normality\n",
    "4. independence of errors\n",
    "5. lack of multicollinearity\n",
    "\n",
    "Only if these conditions are met can we use linear regression. In this section we do not explain these assumptions, assume they are met and proceed, will study them later."
   ]
  },
  {
   "cell_type": "markdown",
   "metadata": {},
   "source": [
    "I can write profit as y = b0 + b1 * x1(x1 = R&DSpend) + b2 * x2(x2 = administration spending) + b3 * x3( amount spent on marketing).\n",
    "but what to do about the state parameters like new york, calirfornia etc.?\n",
    "Dont have a number value to them, cant add a word to the equation. Theyre categorical variables.\n",
    "The approach to take when faced with categorical data is to use dummy variables - encoding the data\n",
    "\n",
    "the dummy variables can be made as such -\n",
    "assume you have only 2 categorical variables new york and california\n",
    "\n",
    "make a table with 2 columns - new york and california and with same number of rows as your data set. now in every row that says new york, put 1 under new york column and 0 under california column. and for every  row that says california, put 0 under new york column and 1 under california column. Now encoding the data should be easier.\n",
    "\n",
    "now y = b0 + b1 * x1 + b2 * x2 + b3 * x3 + b4 * x4(x4 is only the new york column values, u can exclude the california values)\n",
    "\n",
    "In fact you must NOT use all the dummy variable columns, otherwise you will fall into the dummy variable trap.\n",
    "\n",
    "The dummy columns, act as switches. \n",
    "\n",
    "The dummy variable that is dropped turns into the default case for the algorithm.\n",
    "\n",
    "In more than 2 categorical varibales, make those many dummy variables and use n-1 dummy variables for training the model."
   ]
  },
  {
   "cell_type": "markdown",
   "metadata": {},
   "source": [
    "We need to figure out what data to be kept in and the data that we will throw out.\n",
    "We just dont understand the math behind it but also understand how to keep the data in the model\n",
    "The process of building a model - a roadmap to choose the right variables -\n",
    "5 ways to build models -\n",
    "1. All in\n",
    "2. Backward elimination\n",
    "3. Forward selection\n",
    "4. bidirectional elimination\n",
    "5. score comparison\n",
    "\n",
    "step wise regression refers to steps 2,3 and 4 as theure essemtially the true steps of regression. but some ppl replace bidirectional elimination with stepwise regression\n"
   ]
  },
  {
   "cell_type": "markdown",
   "metadata": {},
   "source": [
    "Understanding all the steps - \n",
    "1. All in :- \n",
    "a. Prior knowledge(u have knowledge from experience or something) OR\n",
    "b. you have to (company framework says to use it this way) OR\n",
    "c. Preparing for backward elimination\n",
    "\n",
    "check ipad UDEMY Course 1 - 28/09/22 "
   ]
  },
  {
   "cell_type": "markdown",
   "metadata": {},
   "source": [
    "2. Backward elimination - check ipad UDEMY Course 1 - 28/09/22\n",
    "3. Forward Selection - check ipad UDEMY Course 1 - 28/09/22\n",
    "4. Bidirectional Elimination - ipad UDEMY Course 1 - 28/09/22"
   ]
  },
  {
   "cell_type": "code",
   "execution_count": 14,
   "metadata": {},
   "outputs": [],
   "source": [
    "#Multiple linear regression:-\n",
    "import pandas as pd\n",
    "import numpy as np\n",
    "import matplotlib.pyplot as plt"
   ]
  },
  {
   "cell_type": "code",
   "execution_count": 15,
   "metadata": {},
   "outputs": [],
   "source": [
    "dataset = pd.read_csv(\"/Users/aryanmishra/Desktop/TF/UDEMY COURSE 1/Machine Learning A-Z (Codes and Datasets)/Part 2 - Regression/Section 5 - Multiple Linear Regression/Python/50_Startups.csv\")\n",
    "x = dataset.iloc[:,:-1].values\n",
    "y = dataset.iloc[:,-1].values\n"
   ]
  },
  {
   "cell_type": "markdown",
   "metadata": {},
   "source": [
    "Encoing the categorical data"
   ]
  },
  {
   "cell_type": "code",
   "execution_count": 16,
   "metadata": {},
   "outputs": [],
   "source": [
    "from sklearn.compose import ColumnTransformer\n",
    "from sklearn.preprocessing import OneHotEncoder\n",
    "ct = ColumnTransformer(transformers = [('encoder', OneHotEncoder(), [3])], remainder = 'passthrough')\n",
    "x = np.array(ct.fit_transform(x))\n",
    "#print(x)"
   ]
  },
  {
   "cell_type": "code",
   "execution_count": 17,
   "metadata": {},
   "outputs": [],
   "source": [
    "from sklearn.model_selection import train_test_split\n",
    "x_train, x_test, y_train, y_test = train_test_split(x, y, test_size = 0.2, random_state = 0)"
   ]
  },
  {
   "cell_type": "markdown",
   "metadata": {},
   "source": [
    "I dont need to check the conditions of linear regression. Even if the model doesnt have linearity, can apply linear model and check if it is indeed linear. The model will not act with good accuracy. Eventually you will be able to try all models on your data set and efficienttly and quickly choose the model that best fits your data set."
   ]
  },
  {
   "cell_type": "markdown",
   "metadata": {},
   "source": [
    "Training the Multiple Linear Regression model on Training set and test set\n",
    "\n",
    "Dont need to worry about the dummy variable trap, the class takes care of it\n",
    "Do we need to work on picking up the correct features - no, the class will automatically figure out which features we need to pick up\n"
   ]
  },
  {
   "cell_type": "code",
   "execution_count": 18,
   "metadata": {},
   "outputs": [
    {
     "data": {
      "text/plain": [
       "LinearRegression()"
      ]
     },
     "execution_count": 18,
     "metadata": {},
     "output_type": "execute_result"
    }
   ],
   "source": [
    "from sklearn.linear_model import LinearRegression\n",
    "regressor = LinearRegression()\n",
    "regressor.fit(x_train, y_train)\n"
   ]
  },
  {
   "cell_type": "markdown",
   "metadata": {},
   "source": [
    "We have now trained the model, but now we should figure out how to go about testing, so use x_test and y_test"
   ]
  },
  {
   "cell_type": "code",
   "execution_count": 20,
   "metadata": {},
   "outputs": [
    {
     "name": "stdout",
     "output_type": "stream",
     "text": [
      "[[103015.2  103282.38]\n",
      " [132582.28 144259.4 ]\n",
      " [132447.74 146121.95]\n",
      " [ 71976.1   77798.83]\n",
      " [178537.48 191050.39]\n",
      " [116161.24 105008.31]\n",
      " [ 67851.69  81229.06]\n",
      " [ 98791.73  97483.56]\n",
      " [113969.44 110352.25]\n",
      " [167921.07 166187.94]]\n"
     ]
    }
   ],
   "source": [
    "y_pred = regressor.predict(x_test)\n",
    "np.set_printoptions(precision=2)\n",
    "print(np.concatenate((y_pred.reshape(len(y_pred), 1), y_test.reshape(len(y_test),1)), axis = 1 ))\n",
    "#0 for vertical concatenation, 1 for horizontal concatenation"
   ]
  }
 ],
 "metadata": {
  "kernelspec": {
   "display_name": "Python 3.9.10 ('base')",
   "language": "python",
   "name": "python3"
  },
  "language_info": {
   "codemirror_mode": {
    "name": "ipython",
    "version": 3
   },
   "file_extension": ".py",
   "mimetype": "text/x-python",
   "name": "python",
   "nbconvert_exporter": "python",
   "pygments_lexer": "ipython3",
   "version": "3.9.10"
  },
  "orig_nbformat": 4,
  "vscode": {
   "interpreter": {
    "hash": "c6e4e9f98eb68ad3b7c296f83d20e6de614cb42e90992a65aa266555a3137d0d"
   }
  }
 },
 "nbformat": 4,
 "nbformat_minor": 2
}
